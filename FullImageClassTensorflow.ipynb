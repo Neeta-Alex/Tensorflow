{
  "cells": [
    {
      "cell_type": "markdown",
      "metadata": {
        "id": "view-in-github",
        "colab_type": "text"
      },
      "source": [
        "<a href=\"https://colab.research.google.com/github/Neeta-Alex/Tensorflow/blob/main/FullImageClassTensorflow.ipynb\" target=\"_parent\"><img src=\"https://colab.research.google.com/assets/colab-badge.svg\" alt=\"Open In Colab\"/></a>"
      ]
    },
    {
      "cell_type": "markdown",
      "id": "9ed62e0c",
      "metadata": {
        "id": "9ed62e0c"
      },
      "source": [
        "Copyright (c) 2022 AIClub\n",
        "\n",
        "Permission is hereby granted, free of charge, to any person obtaining a copy of this software and associated\n",
        "documentation files (the \"Software\"), to deal in the Software without restriction, including without\n",
        "limitation the rights to use, copy, modify, merge, publish, distribute, sublicense, and/or sell copies of\n",
        "the Software, and to permit persons to whom the Software is furnished to do so, subject to the following\n",
        "conditions:\n",
        "\n",
        "The above copyright notice and this permission notice shall be included in all copies or substantial\n",
        "portions of the Software.\n",
        "\n",
        "THE SOFTWARE IS PROVIDED \"AS IS\", WITHOUT WARRANTY OF ANY KIND, EXPRESS OR IMPLIED, INCLUDING BUT NOT\n",
        "LIMITED TO THE WARRANTIES OF MERCHANTABILITY, FITNESS FOR A PARTICULAR PURPOSE AND NONINFRINGEMENT. IN NO\n",
        "EVENT SHALL THE AUTHORS OR COPYRIGHT HOLDERS BE LIABLE FOR ANY CLAIM, DAMAGES OR OTHER LIABILITY, WHETHER IN\n",
        "AN ACTION OF CONTRACT, TORT OR OTHERWISE, ARISING FROM, OUT OF OR IN CONNECTION WITH THE SOFTWARE OR THE USE\n",
        "OR OTHER DEALINGS IN THE SOFTWARE.\n",
        "\n",
        "Follow our courses - https://www.corp.aiclub.world/courses\n",
        "\n"
      ]
    },
    {
      "cell_type": "code",
      "execution_count": null,
      "id": "cc4867a9",
      "metadata": {
        "id": "cc4867a9",
        "colab": {
          "base_uri": "https://localhost:8080/"
        },
        "outputId": "7dfde442-b65b-40c7-e29b-74f0b9fa775d"
      },
      "outputs": [
        {
          "output_type": "stream",
          "name": "stdout",
          "text": [
            "Mounted at /content/drive\n"
          ]
        }
      ],
      "source": [
        "\n",
        "from google.colab import drive\n",
        "drive.mount('/content/drive')\n"
      ]
    },
    {
      "cell_type": "code",
      "execution_count": null,
      "id": "47cc41d0",
      "metadata": {
        "id": "47cc41d0"
      },
      "outputs": [],
      "source": [
        "\n",
        "# Please replace the brackets below with the drive location of your folder which included subfolders for images\n",
        "# Sample path: /content/drive/My Drive/ImageClassification\n",
        "PATH = '/content/drive/MyDrive/snake_sample/snake_sample/train'\n"
      ]
    },
    {
      "cell_type": "code",
      "execution_count": null,
      "id": "3ad1c06a",
      "metadata": {
        "id": "3ad1c06a"
      },
      "outputs": [],
      "source": [
        "def create_model(base_model, num_classes):\n",
        "    import tensorflow as tf\n",
        "    # Grab the last layer and add a few extra layers to it\n",
        "    x=base_model.output\n",
        "    x=GlobalAveragePooling2D()(x)\n",
        "    # Dense layer 1\n",
        "    x=tf.keras.layers.Dense(100,activation='relu', kernel_initializer=tf.keras.initializers.VarianceScaling(), use_bias=True)(x)\n",
        "\n",
        "    # Final layer with softmax activation\n",
        "    preds=tf.keras.layers.Dense(num_classes,activation='softmax', kernel_initializer=tf.keras.initializers.VarianceScaling(), use_bias=False)(x)\n",
        "\n",
        "    # Create the final model\n",
        "    model=Model(inputs=base_model.input,outputs=preds)\n",
        "    return model\n"
      ]
    },
    {
      "cell_type": "code",
      "execution_count": null,
      "id": "afa74c36",
      "metadata": {
        "id": "afa74c36"
      },
      "outputs": [],
      "source": [
        "def get_optimizer(optimizer_name, learning_rate):\n",
        "    # Import keras optimizers\n",
        "    from tensorflow.keras.optimizers import Adam, Adadelta, Adagrad, Adamax, Ftrl, Nadam, RMSprop, SGD\n",
        "    print('Selected Optimizer', optimizer_name)\n",
        "    switcher = {\n",
        "        'Adadelta': Adadelta(learning_rate=learning_rate),\n",
        "        'Adagrad': Adagrad(learning_rate=learning_rate),\n",
        "        'Adam': Adam(learning_rate=learning_rate),\n",
        "        'Adamax': Adamax(learning_rate=learning_rate),\n",
        "        'FTRL': Ftrl(learning_rate=learning_rate),\n",
        "        'NAdam': Nadam(learning_rate=learning_rate),\n",
        "        'RMSprop': RMSprop(learning_rate=learning_rate),\n",
        "        'Gradient Descent': SGD(learning_rate=learning_rate)\n",
        "    }\n",
        "    # If optimizer_name is empty, Adam will be return as default optimizer\n",
        "    return switcher.get(optimizer_name, Adam(learning_rate=learning_rate))\n"
      ]
    },
    {
      "cell_type": "code",
      "execution_count": null,
      "id": "990515f5",
      "metadata": {
        "id": "990515f5",
        "colab": {
          "base_uri": "https://localhost:8080/"
        },
        "outputId": "a11f3b21-e002-401e-d13c-5320c83267a0"
      },
      "outputs": [
        {
          "output_type": "stream",
          "name": "stdout",
          "text": [
            "Found 14 images belonging to 2 classes.\n",
            "Found 2 images belonging to 2 classes.\n",
            "{'NonVenemous': 0, 'Venemous': 1}\n",
            "154\n",
            "Selected Optimizer Adam\n"
          ]
        }
      ],
      "source": [
        "\n",
        "# Import packages needed to create a imaage classification model\n",
        "import matplotlib.pyplot as plt\n",
        "import numpy as np\n",
        "import os\n",
        "import tensorflow as tf\n",
        "\n",
        "from keras.applications.resnet import preprocess_input\n",
        "#from keras.preprocessing.image import ImageDataGenerator\n",
        "from tensorflow.keras.preprocessing.image import ImageDataGenerator\n",
        "from keras.layers import Dense,GlobalAveragePooling2D\n",
        "from keras.models import Model\n",
        "from tensorflow.keras import regularizers\n",
        "\n",
        "from tensorflow.keras.preprocessing import image_dataset_from_directory\n",
        "from keras.callbacks import EarlyStopping\n",
        "from tensorflow import keras\n",
        "\n",
        "# Initialize hyper params\n",
        "epochs = 20 #<-- increase for higher accuracy\n",
        "base_learning_rate = 0.000001 #decrease for different results; use excel sheet to note down results from each change to learning rate and epochs\n",
        "optimizer = 'Adam'\n",
        "BATCH_SIZE = 32\n",
        "\n",
        "IMG_SIZE = (224, 224)\n",
        "\n",
        "# Create the data generation pipeline for training and validation\n",
        "train_datagen = ImageDataGenerator(preprocessing_function=preprocess_input, validation_split=0.2) # set validation split\n",
        "\n",
        "train_generator = train_datagen.flow_from_directory(PATH,\n",
        "                                                target_size=IMG_SIZE,\n",
        "                                                color_mode='rgb',\n",
        "                                                batch_size=BATCH_SIZE,\n",
        "                                                class_mode='categorical',\n",
        "                                                shuffle=True,\n",
        "                                                subset = 'training')\n",
        "validation_generator = train_datagen.flow_from_directory(PATH,\n",
        "                                                target_size=IMG_SIZE,\n",
        "                                                color_mode='rgb',\n",
        "                                                batch_size=BATCH_SIZE,\n",
        "                                                class_mode='categorical',\n",
        "                                                shuffle=True,\n",
        "                                                subset = 'validation')\n",
        "\n",
        "print (validation_generator.class_indices)\n",
        "# Download the model, valid alpha values [0.25,0.35,0.5,0.75,1]\n",
        "base_model = tf.keras.applications.mobilenet_v2.MobileNetV2(input_shape=(224, 224, 3), include_top=False, weights='imagenet', alpha=0.35)\n",
        "for layer in base_model.layers:\n",
        "    layer.trainable=False\n",
        "\n",
        "# Specify the number of classes\n",
        "num_classes = 2\n",
        "\n",
        "# Create the base model\n",
        "model = create_model(base_model,num_classes)\n",
        "\n",
        "print(len(base_model.layers))\n",
        "\n",
        "model.compile(optimizer = get_optimizer(optimizer_name=optimizer,learning_rate=base_learning_rate),loss='CategoricalCrossentropy',metrics=['accuracy'])\n",
        "# Adam optimizer\n",
        "# loss function will be categorical cross entropy\n",
        "# evaluation metric will be accuracy\n",
        "\n",
        "early_stopping_monitor = EarlyStopping(\n",
        "    monitor='val_loss',\n",
        "    min_delta=0,\n",
        "    patience=30,\n",
        "    verbose=0,\n",
        "    mode='auto',\n",
        "    baseline=None,\n",
        "    restore_best_weights=True\n",
        ")\n",
        "\n",
        "step_size_train = train_generator.n//train_generator.batch_size\n",
        "history_fine = model.fit(train_generator,\n",
        "                        epochs=epochs,\n",
        "                        callbacks=[early_stopping_monitor],\n",
        "                        validation_data = validation_generator,\n",
        "                        verbose=0)\n",
        "\n",
        "####model.save(\"/content/trained_model.keras\")\n"
      ]
    },
    {
      "cell_type": "code",
      "execution_count": null,
      "id": "275de59b",
      "metadata": {
        "id": "275de59b",
        "colab": {
          "base_uri": "https://localhost:8080/"
        },
        "outputId": "804fceda-d704-47d8-815b-8a81506188c9"
      },
      "outputs": [
        {
          "output_type": "stream",
          "name": "stdout",
          "text": [
            "Training Accuracy:  [0.5, 0.5, 0.5, 0.5, 0.5, 0.5, 0.5, 0.5, 0.5, 0.5, 0.5, 0.5, 0.5, 0.5, 0.5, 0.5, 0.5, 0.5, 0.5, 0.5]\n",
            "Validation Accuracy:  [0.5, 0.5, 0.5, 0.5, 0.5, 0.5, 0.5, 0.5, 0.5, 0.5, 0.5, 0.5, 0.5, 0.5, 0.5, 0.5, 0.5, 0.5, 0.5, 0.5]\n",
            "Training Loss:  [0.9166931509971619, 0.9160218834877014, 0.9153509140014648, 0.9146780371665955, 0.9140043258666992, 0.9133310317993164, 0.9126580953598022, 0.9119856953620911, 0.9113137125968933, 0.9106446504592896, 0.9099774956703186, 0.9093113541603088, 0.9086456298828125, 0.9079802632331848, 0.9073154330253601, 0.9066510796546936, 0.9059876203536987, 0.9053246378898621, 0.9046622514724731, 0.9040006995201111]\n",
            "Validation Loss:  [1.1180182695388794, 1.1176584959030151, 1.1172993183135986, 1.1169407367706299, 1.116582989692688, 1.116225004196167, 1.1158674955368042, 1.1155102252960205, 1.1151540279388428, 1.1147987842559814, 1.114444613456726, 1.1140906810760498, 1.11373770236969, 1.1133856773376465, 1.1130338907241821, 1.1126829385757446, 1.112332820892334, 1.1119834184646606, 1.1116342544555664, 1.1112865209579468]\n",
            "best model accuracy:  0.5\n"
          ]
        }
      ],
      "source": [
        "\n",
        "# Import numpy for calculating best model accuracy\n",
        "import numpy as np\n",
        "# Populating matrics -> accuracy & loss\n",
        "acc = history_fine.history['accuracy']\n",
        "val_acc = history_fine.history['val_accuracy']\n",
        "\n",
        "loss = history_fine.history['loss']\n",
        "val_loss = history_fine.history['val_loss']\n",
        "\n",
        "print('Training Accuracy: ', acc)\n",
        "print('Validation Accuracy: ', val_acc)\n",
        "print('Training Loss: ', loss)\n",
        "print('Validation Loss: ', val_loss)\n",
        "best_model_accuracy = history_fine.history['val_accuracy'][np.argmin(history_fine.history['val_loss'])]\n",
        "print('best model accuracy: ', best_model_accuracy)\n"
      ]
    },
    {
      "cell_type": "code",
      "execution_count": null,
      "id": "ac7d91cd",
      "metadata": {
        "id": "ac7d91cd"
      },
      "outputs": [],
      "source": [
        "def seperate_labels(generator):\n",
        "    x_validation = []\n",
        "    y_validation = []\n",
        "    num_seen = 0\n",
        "\n",
        "    for x, labels in generator:\n",
        "        #print (labels, x)\n",
        "        x_validation.append(x)\n",
        "        y_validation.append([argmax(label) for label in labels])\n",
        "        num_seen += len(x)\n",
        "        if num_seen == generator.n: break\n",
        "\n",
        "    x_validation = np.concatenate(x_validation)\n",
        "    y_validation = np.concatenate(y_validation)\n",
        "    return x_validation, y_validation\n"
      ]
    },
    {
      "cell_type": "code",
      "source": [],
      "metadata": {
        "id": "u5xQtvzSaWkm"
      },
      "id": "u5xQtvzSaWkm",
      "execution_count": null,
      "outputs": []
    },
    {
      "cell_type": "code",
      "source": [],
      "metadata": {
        "id": "u7NKGYw-Yg-0"
      },
      "id": "u7NKGYw-Yg-0",
      "execution_count": null,
      "outputs": []
    },
    {
      "cell_type": "code",
      "execution_count": null,
      "id": "3ade33db",
      "metadata": {
        "id": "3ade33db",
        "colab": {
          "base_uri": "https://localhost:8080/",
          "height": 491
        },
        "outputId": "9c2c784b-f04a-407e-beda-ad0c7edfbec9"
      },
      "outputs": [
        {
          "output_type": "stream",
          "name": "stdout",
          "text": [
            "\u001b[1m1/1\u001b[0m \u001b[32m━━━━━━━━━━━━━━━━━━━━\u001b[0m\u001b[37m\u001b[0m \u001b[1m3s\u001b[0m 3s/step\n",
            "dict_keys(['NonVenemous', 'Venemous'])\n"
          ]
        },
        {
          "output_type": "display_data",
          "data": {
            "text/plain": [
              "<Figure size 640x480 with 2 Axes>"
            ],
            "image/png": "[encoded data removed]"
          },
          "metadata": {}
        }
      ],
      "source": [
        "\n",
        "# Calculate and display the confusion matrix\n",
        "import matplotlib.pyplot as plt\n",
        "from numpy.core.fromnumeric import argmax\n",
        "from sklearn.metrics import ConfusionMatrixDisplay\n",
        "\n",
        "x_validation, y_validation = seperate_labels(validation_generator)\n",
        "#print (x_validation,y_validation)\n",
        "y_pred = model.predict(x_validation, batch_size=BATCH_SIZE)\n",
        "predictions = np.apply_along_axis(argmax, 1, y_pred)\n",
        "display_labels = validation_generator.class_indices.keys()\n",
        "print (display_labels)\n",
        "ConfusionMatrixDisplay.from_predictions(y_validation, predictions, display_labels=display_labels, cmap=\"binary\")\n",
        "plt.show()\n"
      ]
    },
    {
      "cell_type": "code",
      "execution_count": null,
      "id": "015567d6",
      "metadata": {
        "id": "015567d6",
        "colab": {
          "base_uri": "https://localhost:8080/"
        },
        "outputId": "297a7130-5a08-4e40-fe95-fd0cbac74efa"
      },
      "outputs": [
        {
          "output_type": "stream",
          "name": "stdout",
          "text": [
            "\u001b[1m1/1\u001b[0m \u001b[32m━━━━━━━━━━━━━━━━━━━━\u001b[0m\u001b[37m\u001b[0m \u001b[1m2s\u001b[0m 2s/step\n",
            "[[0.01788506 0.9821149 ]]\n",
            "res:: 1\n",
            "\n"
          ]
        }
      ],
      "source": [
        "\n",
        "# Predicting code for an image\n",
        "from tensorflow.keras.preprocessing import image\n",
        "import tensorflow as tf\n",
        "import numpy as np\n",
        "# Please replace the brackets below with the location of your image which need to predict\n",
        "img_path = '/content/nonven.jpg'\n",
        "IMG_SIZE = (224, 224)\n",
        "img = image.load_img(img_path, target_size=IMG_SIZE)\n",
        "img_array = image.img_to_array(img)\n",
        "img_batch = np.expand_dims(img_array, axis=0)\n",
        "img_preprocessed = preprocess_input(img_batch)\n",
        "prediction = model.predict(img_preprocessed)\n",
        "print(prediction)\n",
        "\n",
        "result = np.argmax(prediction)\n",
        "print (\"res::\",result)\n",
        "print ()"
      ]
    },
    {
      "cell_type": "code",
      "source": [
        "#from imagenet_utils import decode_predictions\n",
        "#print (decode_predictions(result))\n",
        "label_map = train_generator.class_indices\n",
        "res = [key for key,val in label_map.items() if val==result]\n",
        "print(res)"
      ],
      "metadata": {
        "colab": {
          "base_uri": "https://localhost:8080/"
        },
        "id": "ONvddObDJqw8",
        "outputId": "f63d7f32-d7ad-4068-bdd0-861848867710"
      },
      "id": "ONvddObDJqw8",
      "execution_count": null,
      "outputs": [
        {
          "output_type": "stream",
          "name": "stdout",
          "text": [
            "['Venemous']\n"
          ]
        }
      ]
    },
    {
      "cell_type": "code",
      "source": [],
      "metadata": {
        "id": "SPS9Afb4Ds3u"
      },
      "id": "SPS9Afb4Ds3u",
      "execution_count": null,
      "outputs": []
    },
    {
      "cell_type": "code",
      "execution_count": null,
      "metadata": {
        "colab": {
          "base_uri": "https://localhost:8080/"
        },
        "outputId": "f44e038e-3219-4134-d874-ca57a346401a",
        "id": "SWoFfo16Dtlz"
      },
      "outputs": [
        {
          "output_type": "stream",
          "name": "stdout",
          "text": [
            "\u001b[1m1/1\u001b[0m \u001b[32m━━━━━━━━━━━━━━━━━━━━\u001b[0m\u001b[37m\u001b[0m \u001b[1m0s\u001b[0m 62ms/step\n",
            "[[0.16101924 0.8389808 ]]\n",
            "res:: 1\n",
            "\n"
          ]
        }
      ],
      "source": [
        "\n",
        "# Predicting code for an image\n",
        "from tensorflow.keras.preprocessing import image\n",
        "import tensorflow as tf\n",
        "import numpy as np\n",
        "# Please replace the brackets below with the location of your image which need to predict\n",
        "img_path = '/content/ven.jpg'\n",
        "IMG_SIZE = (224, 224)\n",
        "img = image.load_img(img_path, target_size=IMG_SIZE)\n",
        "img_array = image.img_to_array(img)\n",
        "img_batch = np.expand_dims(img_array, axis=0)\n",
        "img_preprocessed = preprocess_input(img_batch)\n",
        "prediction = model.predict(img_preprocessed)\n",
        "print(prediction)\n",
        "\n",
        "result = np.argmax(prediction)\n",
        "print (\"res::\",result)\n",
        "print ()"
      ],
      "id": "SWoFfo16Dtlz"
    },
    {
      "cell_type": "code",
      "source": [
        "import numpy as np\n",
        "result = np.argmax(yhat)\n",
        "print(result)"
      ],
      "metadata": {
        "id": "QscH2Miq-jLF"
      },
      "execution_count": null,
      "outputs": [],
      "id": "QscH2Miq-jLF"
    },
    {
      "cell_type": "code",
      "source": [],
      "metadata": {
        "id": "5_9EJcz4xQMf",
        "colab": {
          "base_uri": "https://localhost:8080/",
          "height": 176
        },
        "outputId": "564684c2-3b75-43be-e26e-650e3ddcc2b4"
      },
      "execution_count": null,
      "outputs": [
        {
          "output_type": "error",
          "ename": "NameError",
          "evalue": "name 'yhat' is not defined",
          "traceback": [
            "\u001b[0;31m---------------------------------------------------------------------------\u001b[0m",
            "\u001b[0;31mNameError\u001b[0m                                 Traceback (most recent call last)",
            "\u001b[0;32m<ipython-input-28-d139258e2676>\u001b[0m in \u001b[0;36m<cell line: 2>\u001b[0;34m()\u001b[0m\n\u001b[1;32m      1\u001b[0m \u001b[0;32mimport\u001b[0m \u001b[0mnumpy\u001b[0m \u001b[0;32mas\u001b[0m \u001b[0mnp\u001b[0m\u001b[0;34m\u001b[0m\u001b[0;34m\u001b[0m\u001b[0m\n\u001b[0;32m----> 2\u001b[0;31m \u001b[0mresult\u001b[0m \u001b[0;34m=\u001b[0m \u001b[0mnp\u001b[0m\u001b[0;34m.\u001b[0m\u001b[0margmax\u001b[0m\u001b[0;34m(\u001b[0m\u001b[0myhat\u001b[0m\u001b[0;34m)\u001b[0m\u001b[0;34m\u001b[0m\u001b[0;34m\u001b[0m\u001b[0m\n\u001b[0m\u001b[1;32m      3\u001b[0m \u001b[0mprint\u001b[0m\u001b[0;34m(\u001b[0m\u001b[0mresult\u001b[0m\u001b[0;34m)\u001b[0m\u001b[0;34m\u001b[0m\u001b[0;34m\u001b[0m\u001b[0m\n",
            "\u001b[0;31mNameError\u001b[0m: name 'yhat' is not defined"
          ]
        }
      ],
      "id": "5_9EJcz4xQMf"
    },
    {
      "cell_type": "markdown",
      "source": [
        "# New Section"
      ],
      "metadata": {
        "id": "CHRBYUmL1Mts"
      },
      "id": "CHRBYUmL1Mts"
    },
    {
      "cell_type": "code",
      "source": [
        "from google.colab import drive\n",
        "drive.mount('/content/drive')"
      ],
      "metadata": {
        "colab": {
          "base_uri": "https://localhost:8080/"
        },
        "id": "9cp13k-p1QLG",
        "outputId": "4c945880-6972-43d6-9b99-60c43881e8c2"
      },
      "id": "9cp13k-p1QLG",
      "execution_count": null,
      "outputs": [
        {
          "output_type": "stream",
          "name": "stdout",
          "text": [
            "Drive already mounted at /content/drive; to attempt to forcibly remount, call drive.mount(\"/content/drive\", force_remount=True).\n"
          ]
        }
      ]
    },
    {
      "cell_type": "code",
      "execution_count": null,
      "id": "88721cbd",
      "metadata": {
        "id": "88721cbd"
      },
      "outputs": [],
      "source": [
        "\n",
        "from sklearn.metrics import roc_curve, roc_auc_score\n",
        "\n",
        "predictions = y_pred[:, 1]\n",
        "y_true = validation_generator.classes\n",
        "fpr, tpr, _ = roc_curve(y_true, predictions)\n",
        "auc = roc_auc_score(y_true, predictions)\n",
        "\n",
        "#create ROC curve\n",
        "plt.plot(fpr,tpr,label=\"AUC=\"+str(auc))\n",
        "plt.ylabel('True Positive Rate')\n",
        "plt.xlabel('False Positive Rate')\n",
        "plt.legend(bbox_to_anchor=(1, 1.12))\n",
        "plt.show()\n"
      ]
    }
  ],
  "metadata": {
    "colab": {
      "provenance": [],
      "include_colab_link": true
    },
    "language_info": {
      "name": "python"
    },
    "kernelspec": {
      "name": "python3",
      "display_name": "Python 3"
    }
  },
  "nbformat": 4,
  "nbformat_minor": 5
}